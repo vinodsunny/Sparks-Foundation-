{
 "cells": [
  {
   "cell_type": "markdown",
   "metadata": {},
   "source": [
    "# Task  2 - To Explore  Supervised Machine Learning"
   ]
  },
  {
   "cell_type": "markdown",
   "metadata": {},
   "source": [
    "## Problem Statement :\n",
    "\n",
    "\n",
    "<span style=\"color:red; font-size:20px; \"> In this regression task we will predict the percentage of marks that a student is expected to score based upon the number of hours they studied.  </span>"
   ]
  },
  {
   "cell_type": "markdown",
   "metadata": {},
   "source": [
    "#### Regression  : it is task of predicting continuous value . \n",
    "\n",
    "#### Linear Regression :\n",
    "It is one of the simplest supervised machine learning algorithm , where the goal of Regression Model is to find out the linear relationship between Input variables and Target Variable .\n",
    "                    \n",
    "#### note :  goal of the model is to choose a straight line that has least error between actual and predicted value \n",
    "\n",
    "1 .  Simple linear Regression :\n",
    "     regression task as it involves just one input variable and one Target Variable.\n",
    "     \n",
    "2 .  Multiple linear Regression :\n",
    "     regression task as it involves in Multiple  input variable and one Target Variable."
   ]
  },
  {
   "cell_type": "code",
   "execution_count": 1,
   "metadata": {},
   "outputs": [],
   "source": [
    "import pandas as pd\n",
    "import numpy  as np\n",
    "import matplotlib.pyplot as plt\n",
    "import seaborn as sns\n",
    "%matplotlib inline\n",
    "plt.style.use('fivethirtyeight')"
   ]
  },
  {
   "cell_type": "code",
   "execution_count": 2,
   "metadata": {},
   "outputs": [
    {
     "name": "stdout",
     "output_type": "stream",
     "text": [
      "Number of rows :  25\n",
      "Number of cols :  2\n"
     ]
    }
   ],
   "source": [
    "data  = pd.read_csv('C:/Users/admin/Desktop/data.csv')\n",
    "data.columns   = [i.lower() for i in data.columns]\n",
    "print(\"Number of rows : \",data.shape[0])\n",
    "print(\"Number of cols : \",data.shape[1])"
   ]
  },
  {
   "cell_type": "code",
   "execution_count": 3,
   "metadata": {},
   "outputs": [
    {
     "name": "stdout",
     "output_type": "stream",
     "text": [
      "DataTypes of Columns : \n",
      " hours  -  float64\n",
      " scores -  int64\n"
     ]
    }
   ],
   "source": [
    "print(\"DataTypes of Columns : \")\n",
    "print(\" hours  - \",data.hours.dtype)\n",
    "print(\" scores - \",data.scores.dtype)"
   ]
  },
  {
   "cell_type": "code",
   "execution_count": 4,
   "metadata": {},
   "outputs": [
    {
     "data": {
      "text/html": [
       "<div>\n",
       "<style scoped>\n",
       "    .dataframe tbody tr th:only-of-type {\n",
       "        vertical-align: middle;\n",
       "    }\n",
       "\n",
       "    .dataframe tbody tr th {\n",
       "        vertical-align: top;\n",
       "    }\n",
       "\n",
       "    .dataframe thead th {\n",
       "        text-align: right;\n",
       "    }\n",
       "</style>\n",
       "<table border=\"1\" class=\"dataframe\">\n",
       "  <thead>\n",
       "    <tr style=\"text-align: right;\">\n",
       "      <th></th>\n",
       "      <th>hours</th>\n",
       "      <th>scores</th>\n",
       "    </tr>\n",
       "  </thead>\n",
       "  <tbody>\n",
       "    <tr>\n",
       "      <th>0</th>\n",
       "      <td>2.5</td>\n",
       "      <td>21</td>\n",
       "    </tr>\n",
       "    <tr>\n",
       "      <th>1</th>\n",
       "      <td>5.1</td>\n",
       "      <td>47</td>\n",
       "    </tr>\n",
       "    <tr>\n",
       "      <th>2</th>\n",
       "      <td>3.2</td>\n",
       "      <td>27</td>\n",
       "    </tr>\n",
       "    <tr>\n",
       "      <th>3</th>\n",
       "      <td>8.5</td>\n",
       "      <td>75</td>\n",
       "    </tr>\n",
       "    <tr>\n",
       "      <th>4</th>\n",
       "      <td>3.5</td>\n",
       "      <td>30</td>\n",
       "    </tr>\n",
       "  </tbody>\n",
       "</table>\n",
       "</div>"
      ],
      "text/plain": [
       "   hours  scores\n",
       "0    2.5      21\n",
       "1    5.1      47\n",
       "2    3.2      27\n",
       "3    8.5      75\n",
       "4    3.5      30"
      ]
     },
     "execution_count": 4,
     "metadata": {},
     "output_type": "execute_result"
    }
   ],
   "source": [
    "# First 5 rows\n",
    "data.head()"
   ]
  },
  {
   "cell_type": "code",
   "execution_count": 5,
   "metadata": {},
   "outputs": [
    {
     "name": "stdout",
     "output_type": "stream",
     "text": [
      "No missing values !!!! \n"
     ]
    },
    {
     "data": {
      "text/plain": [
       "hours     0\n",
       "scores    0\n",
       "dtype: int64"
      ]
     },
     "execution_count": 5,
     "metadata": {},
     "output_type": "execute_result"
    }
   ],
   "source": [
    "# Check for missing values in columns \n",
    "print(\"No missing values !!!! \")\n",
    "data.isnull().sum()"
   ]
  },
  {
   "cell_type": "markdown",
   "metadata": {},
   "source": [
    "# Exploratory data analysis "
   ]
  },
  {
   "cell_type": "code",
   "execution_count": 6,
   "metadata": {},
   "outputs": [
    {
     "data": {
      "image/png": "[encoded data removed]",
      "text/plain": [
       "<Figure size 432x288 with 1 Axes>"
      ]
     },
     "metadata": {
      "needs_background": "light"
     },
     "output_type": "display_data"
    }
   ],
   "source": [
    "# insight : below diagram exibhiting Multimodel distribution ,\n",
    "\n",
    "plt.hist(data['hours'],color = \"r\")\n",
    "plt.title(\"Distribution of Study hours\")\n",
    "plt.xlabel(\" Study Time in hours \")\n",
    "plt.show()"
   ]
  },
  {
   "cell_type": "code",
   "execution_count": 7,
   "metadata": {},
   "outputs": [
    {
     "name": "stdout",
     "output_type": "stream",
     "text": [
      "Relationship Between Hours v/s Scores \n"
     ]
    },
    {
     "data": {
      "image/png": "[encoded data removed]",
      "text/plain": [
       "<Figure size 432x288 with 1 Axes>"
      ]
     },
     "metadata": {
      "needs_background": "light"
     },
     "output_type": "display_data"
    }
   ],
   "source": [
    "# insight : we can see positive corelation between Hours v/s Scores , hence it confirms that \n",
    "# Higher the study Time better the Score and Viceversa . \n",
    "\n",
    "print(\"Relationship Between Hours v/s Scores \")\n",
    "plt.scatter(x = data['hours'],y = data['scores'],c = \"r\")\n",
    "plt.xlabel(\" Study Time in hours \")\n",
    "plt.ylabel(\" Scores (Target) \")\n",
    "plt.show()"
   ]
  },
  {
   "cell_type": "markdown",
   "metadata": {},
   "source": [
    "# Model Building"
   ]
  },
  {
   "cell_type": "code",
   "execution_count": 8,
   "metadata": {},
   "outputs": [],
   "source": [
    "# Import train_test_split\n",
    "from sklearn.model_selection import train_test_split\n",
    "# Import LinearReg\n",
    "from sklearn.linear_model import LinearRegression \n",
    "# Import Regression Metrics \n",
    "from sklearn.metrics import mean_squared_error,r2_score,mean_absolute_error"
   ]
  },
  {
   "cell_type": "markdown",
   "metadata": {},
   "source": [
    "#### Split the data into Train and Test Data"
   ]
  },
  {
   "cell_type": "code",
   "execution_count": 9,
   "metadata": {},
   "outputs": [],
   "source": [
    "x = np.array(data.loc[:,'hours']).reshape(-1, 1)\n",
    "y = np.array(data.loc[:,'scores']).reshape(-1, 1)                                          \n",
    "xtrain,xtest,ytrain,ytest = train_test_split(x,y,test_size = 0.3,random_state = 33 )"
   ]
  },
  {
   "cell_type": "markdown",
   "metadata": {},
   "source": [
    "### Train Model "
   ]
  },
  {
   "cell_type": "code",
   "execution_count": 10,
   "metadata": {},
   "outputs": [
    {
     "name": "stdout",
     "output_type": "stream",
     "text": [
      "Training Done !!!!!\n"
     ]
    }
   ],
   "source": [
    "# created lr object of linear Regression . \n",
    "lr = LinearRegression()\n",
    "lr.fit(xtrain,ytrain)\n",
    "ytrain_pred = lr.predict(xtrain)\n",
    "print(\"Training Done !!!!!\")"
   ]
  },
  {
   "cell_type": "markdown",
   "metadata": {},
   "source": [
    "#### r2_score : Metrics which tells how good our model is (1 being best and 0 being poor)\n",
    "#### mean_squared_error : Metrics which tells how much error made by model while learning the regression parameters "
   ]
  },
  {
   "cell_type": "code",
   "execution_count": 11,
   "metadata": {},
   "outputs": [
    {
     "name": "stdout",
     "output_type": "stream",
     "text": [
      " r2_score :  0.9393448443201187\n",
      "MSE Value :  31.3018381605843\n",
      "MAE Value :  5.163798307374161\n"
     ]
    }
   ],
   "source": [
    "# Let's check for the Train Data Performance .\n",
    "print(\" r2_score : \",r2_score(ytrain,ytrain_pred))\n",
    "print(\"MSE Value : \",mean_squared_error(ytrain,ytrain_pred))\n",
    "print(\"MAE Value : \",mean_absolute_error(ytrain,ytrain_pred))"
   ]
  },
  {
   "cell_type": "code",
   "execution_count": 12,
   "metadata": {},
   "outputs": [
    {
     "data": {
      "image/png": "[encoded data removed]",
      "text/plain": [
       "<Figure size 432x288 with 1 Axes>"
      ]
     },
     "metadata": {
      "needs_background": "light"
     },
     "output_type": "display_data"
    }
   ],
   "source": [
    "sns.distplot(ytrain - ytrain_pred )\n",
    "plt.title(\"Training error distribution \")\n",
    "plt.show()"
   ]
  },
  {
   "cell_type": "markdown",
   "metadata": {},
   "source": [
    "### Let's check for the Test Data Performance ."
   ]
  },
  {
   "cell_type": "code",
   "execution_count": 13,
   "metadata": {},
   "outputs": [
    {
     "name": "stdout",
     "output_type": "stream",
     "text": [
      " r2_score :  0.967305466408696\n",
      "MSE Value :  26.527016340556976\n",
      "MAE Value :  4.414248247307459\n"
     ]
    }
   ],
   "source": [
    "ytest_pred = lr.predict(xtest)\n",
    "print(\" r2_score : \",r2_score(ytest,ytest_pred))\n",
    "print(\"MSE Value : \",mean_squared_error(ytest,ytest_pred))\n",
    "print(\"MAE Value : \",mean_absolute_error(ytest,ytest_pred))"
   ]
  },
  {
   "cell_type": "markdown",
   "metadata": {},
   "source": [
    "### Actual v/s Predicted"
   ]
  },
  {
   "cell_type": "code",
   "execution_count": 24,
   "metadata": {},
   "outputs": [
    {
     "name": "stdout",
     "output_type": "stream",
     "text": [
      "Actual v/s Predicted \n"
     ]
    },
    {
     "data": {
      "image/png": "[encoded data removed]",
      "text/plain": [
       "<Figure size 432x288 with 1 Axes>"
      ]
     },
     "metadata": {
      "needs_background": "light"
     },
     "output_type": "display_data"
    }
   ],
   "source": [
    "line = lr.coef_ * x + lr.intercept_  \n",
    "print('Actual v/s Predicted ')\n",
    "plt.scatter(x,y,c = \"r\")\n",
    "plt.plot(x,line)\n",
    "plt.xlabel(\"Study Time in Hours\")\n",
    "plt.ylabel(\"Score\")\n",
    "plt.show()"
   ]
  },
  {
   "cell_type": "markdown",
   "metadata": {},
   "source": [
    "# Making Prediction on Given Input "
   ]
  },
  {
   "cell_type": "code",
   "execution_count": 14,
   "metadata": {},
   "outputs": [
    {
     "name": "stdout",
     "output_type": "stream",
     "text": [
      "Predicted Score :  [91.04322673]\n"
     ]
    }
   ],
   "source": [
    "hours = np.array(9.25).reshape(-1,1)\n",
    "score = lr.predict(hours)\n",
    "print(\"Predicted Score : \",score[0])"
   ]
  },
  {
   "cell_type": "markdown",
   "metadata": {},
   "source": [
    "# Thank You !\n",
    "<span style=\"color:red; font-size:20px;\"> Author, Vinod R </span>"
   ]
  }
 ],
 "metadata": {
  "kernelspec": {
   "display_name": "Python 3",
   "language": "python",
   "name": "python3"
  },
  "language_info": {
   "codemirror_mode": {
    "name": "ipython",
    "version": 3
   },
   "file_extension": ".py",
   "mimetype": "text/x-python",
   "name": "python",
   "nbconvert_exporter": "python",
   "pygments_lexer": "ipython3",
   "version": "3.7.1"
  }
 },
 "nbformat": 4,
 "nbformat_minor": 2
}
